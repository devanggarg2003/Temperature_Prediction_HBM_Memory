{
 "cells": [
  {
   "attachments": {},
   "cell_type": "markdown",
   "metadata": {},
   "source": [
    "Importing Libraries and Datasets"
   ]
  },
  {
   "cell_type": "code",
   "execution_count": 1,
   "metadata": {},
   "outputs": [],
   "source": [
    "import numpy as np\n",
    "import matplotlib.pyplot as plt\n",
    "import pandas as pd\n",
    "from sklearn.model_selection import train_test_split\n",
    "from sklearn.linear_model import Ridge\n",
    "from sklearn.metrics import mean_squared_error"
   ]
  },
  {
   "cell_type": "code",
   "execution_count": 2,
   "metadata": {},
   "outputs": [],
   "source": [
    "dataset = pd.read_csv(\"result.csv\")"
   ]
  },
  {
   "attachments": {},
   "cell_type": "markdown",
   "metadata": {},
   "source": [
    "Reshaping Datasets to fit for model"
   ]
  },
  {
   "cell_type": "code",
   "execution_count": 3,
   "metadata": {},
   "outputs": [],
   "source": [
    "dataset.head()\n",
    "dataset.dtypes\n",
    "ds  = dataset.drop(columns = 'prediction')"
   ]
  },
  {
   "cell_type": "code",
   "execution_count": 4,
   "metadata": {},
   "outputs": [],
   "source": [
    "X = ds.iloc[::].values\n",
    "ReshapedX = np.reshape(X, (3672, 128))"
   ]
  },
  {
   "cell_type": "code",
   "execution_count": 5,
   "metadata": {},
   "outputs": [
    {
     "name": "stdout",
     "output_type": "stream",
     "text": [
      "[[9.2833e+04 7.0520e+01 1.6000e-02 0.0000e+00]\n",
      " [0.0000e+00 7.0700e+01 1.6000e-02 1.0000e+00]\n",
      " [0.0000e+00 7.0700e+01 1.6000e-02 2.0000e+00]\n",
      " ...\n",
      " [0.0000e+00 1.0868e+02 1.6000e-02 2.9000e+01]\n",
      " [0.0000e+00 1.0708e+02 1.6000e-02 3.0000e+01]\n",
      " [0.0000e+00 1.0532e+02 1.6000e-02 3.1000e+01]]\n",
      "[[9.28330e+04 7.05200e+01 1.60000e-02 ... 1.60000e-02 1.00000e+00\n",
      "  3.10000e+01]\n",
      " [9.40290e+04 7.12200e+01 2.28600e+00 ... 1.60000e-02 1.00000e+00\n",
      "  3.10000e+01]\n",
      " [9.55500e+04 7.18200e+01 2.31500e+00 ... 1.60000e-02 1.00000e+00\n",
      "  3.10000e+01]\n",
      " ...\n",
      " [1.15338e+05 1.13150e+02 2.83400e+00 ... 2.53100e+00 1.00000e+00\n",
      "  3.10000e+01]\n",
      " [1.00466e+05 1.12660e+02 2.47200e+00 ... 2.80600e+00 1.00000e+00\n",
      "  3.10000e+01]\n",
      " [1.08006e+05 1.12170e+02 2.65400e+00 ... 2.74500e+00 1.00000e+00\n",
      "  3.10000e+01]]\n"
     ]
    }
   ],
   "source": [
    "print(X[:,[0,1,2,3]])\n",
    "print(ReshapedX[:, [0, 1, 2, 3, 4, 5, 6, 7, 127]])"
   ]
  },
  {
   "cell_type": "code",
   "execution_count": 6,
   "metadata": {},
   "outputs": [
    {
     "data": {
      "text/html": [
       "<div>\n",
       "<style scoped>\n",
       "    .dataframe tbody tr th:only-of-type {\n",
       "        vertical-align: middle;\n",
       "    }\n",
       "\n",
       "    .dataframe tbody tr th {\n",
       "        vertical-align: top;\n",
       "    }\n",
       "\n",
       "    .dataframe thead th {\n",
       "        text-align: right;\n",
       "    }\n",
       "</style>\n",
       "<table border=\"1\" class=\"dataframe\">\n",
       "  <thead>\n",
       "    <tr style=\"text-align: right;\">\n",
       "      <th></th>\n",
       "      <th>accesses</th>\n",
       "      <th>temp</th>\n",
       "      <th>power</th>\n",
       "      <th>number</th>\n",
       "      <th>prediction</th>\n",
       "    </tr>\n",
       "  </thead>\n",
       "  <tbody>\n",
       "    <tr>\n",
       "      <th>0</th>\n",
       "      <td>92833</td>\n",
       "      <td>70.52</td>\n",
       "      <td>0.016</td>\n",
       "      <td>0</td>\n",
       "      <td>71.22</td>\n",
       "    </tr>\n",
       "    <tr>\n",
       "      <th>1</th>\n",
       "      <td>0</td>\n",
       "      <td>70.70</td>\n",
       "      <td>0.016</td>\n",
       "      <td>1</td>\n",
       "      <td>71.40</td>\n",
       "    </tr>\n",
       "    <tr>\n",
       "      <th>2</th>\n",
       "      <td>0</td>\n",
       "      <td>70.70</td>\n",
       "      <td>0.016</td>\n",
       "      <td>2</td>\n",
       "      <td>71.40</td>\n",
       "    </tr>\n",
       "    <tr>\n",
       "      <th>3</th>\n",
       "      <td>0</td>\n",
       "      <td>70.52</td>\n",
       "      <td>0.016</td>\n",
       "      <td>3</td>\n",
       "      <td>71.22</td>\n",
       "    </tr>\n",
       "    <tr>\n",
       "      <th>4</th>\n",
       "      <td>0</td>\n",
       "      <td>70.69</td>\n",
       "      <td>0.016</td>\n",
       "      <td>4</td>\n",
       "      <td>71.37</td>\n",
       "    </tr>\n",
       "  </tbody>\n",
       "</table>\n",
       "</div>"
      ],
      "text/plain": [
       "   accesses   temp  power  number  prediction\n",
       "0     92833  70.52  0.016       0       71.22\n",
       "1         0  70.70  0.016       1       71.40\n",
       "2         0  70.70  0.016       2       71.40\n",
       "3         0  70.52  0.016       3       71.22\n",
       "4         0  70.69  0.016       4       71.37"
      ]
     },
     "execution_count": 6,
     "metadata": {},
     "output_type": "execute_result"
    }
   ],
   "source": [
    "data = pd.read_csv(\"result.csv\")\n",
    "data.head()"
   ]
  },
  {
   "cell_type": "code",
   "execution_count": 7,
   "metadata": {},
   "outputs": [
    {
     "name": "stdout",
     "output_type": "stream",
     "text": [
      "[ 71.22  71.4   71.4  ... 108.31 106.72 104.95]\n",
      "[[ 71.22  71.4   71.4   71.22  71.37  70.73]\n",
      " [ 71.82  71.99  72.    71.83  71.95  70.86]\n",
      " [ 72.33  72.51  72.52  72.35  72.46  70.96]\n",
      " ...\n",
      " [112.66 114.71 116.54 117.6  117.56 105.7 ]\n",
      " [112.17 114.2  116.03 117.08 117.04 105.32]\n",
      " [111.63 113.65 115.48 116.53 116.48 104.95]]\n"
     ]
    }
   ],
   "source": [
    "Y = data.iloc[:,-1].values\n",
    "ReshapedY = np.reshape(Y, (3672, 32))\n",
    "print(Y)\n",
    "print(ReshapedY[:, [0, 1, 2,3, 4,31]])"
   ]
  },
  {
   "attachments": {},
   "cell_type": "markdown",
   "metadata": {},
   "source": [
    "Splitting into Training sets and Testing sets"
   ]
  },
  {
   "cell_type": "code",
   "execution_count": 8,
   "metadata": {},
   "outputs": [],
   "source": [
    "\n",
    "X_train, X_test, y_train, y_test = train_test_split(ReshapedX, ReshapedY, test_size = 0.2, random_state = 0)"
   ]
  },
  {
   "attachments": {},
   "cell_type": "markdown",
   "metadata": {},
   "source": [
    "Implementing Model"
   ]
  },
  {
   "cell_type": "code",
   "execution_count": 9,
   "metadata": {},
   "outputs": [
    {
     "data": {
      "text/html": [
       "<style>#sk-container-id-1 {color: black;background-color: white;}#sk-container-id-1 pre{padding: 0;}#sk-container-id-1 div.sk-toggleable {background-color: white;}#sk-container-id-1 label.sk-toggleable__label {cursor: pointer;display: block;width: 100%;margin-bottom: 0;padding: 0.3em;box-sizing: border-box;text-align: center;}#sk-container-id-1 label.sk-toggleable__label-arrow:before {content: \"▸\";float: left;margin-right: 0.25em;color: #696969;}#sk-container-id-1 label.sk-toggleable__label-arrow:hover:before {color: black;}#sk-container-id-1 div.sk-estimator:hover label.sk-toggleable__label-arrow:before {color: black;}#sk-container-id-1 div.sk-toggleable__content {max-height: 0;max-width: 0;overflow: hidden;text-align: left;background-color: #f0f8ff;}#sk-container-id-1 div.sk-toggleable__content pre {margin: 0.2em;color: black;border-radius: 0.25em;background-color: #f0f8ff;}#sk-container-id-1 input.sk-toggleable__control:checked~div.sk-toggleable__content {max-height: 200px;max-width: 100%;overflow: auto;}#sk-container-id-1 input.sk-toggleable__control:checked~label.sk-toggleable__label-arrow:before {content: \"▾\";}#sk-container-id-1 div.sk-estimator input.sk-toggleable__control:checked~label.sk-toggleable__label {background-color: #d4ebff;}#sk-container-id-1 div.sk-label input.sk-toggleable__control:checked~label.sk-toggleable__label {background-color: #d4ebff;}#sk-container-id-1 input.sk-hidden--visually {border: 0;clip: rect(1px 1px 1px 1px);clip: rect(1px, 1px, 1px, 1px);height: 1px;margin: -1px;overflow: hidden;padding: 0;position: absolute;width: 1px;}#sk-container-id-1 div.sk-estimator {font-family: monospace;background-color: #f0f8ff;border: 1px dotted black;border-radius: 0.25em;box-sizing: border-box;margin-bottom: 0.5em;}#sk-container-id-1 div.sk-estimator:hover {background-color: #d4ebff;}#sk-container-id-1 div.sk-parallel-item::after {content: \"\";width: 100%;border-bottom: 1px solid gray;flex-grow: 1;}#sk-container-id-1 div.sk-label:hover label.sk-toggleable__label {background-color: #d4ebff;}#sk-container-id-1 div.sk-serial::before {content: \"\";position: absolute;border-left: 1px solid gray;box-sizing: border-box;top: 0;bottom: 0;left: 50%;z-index: 0;}#sk-container-id-1 div.sk-serial {display: flex;flex-direction: column;align-items: center;background-color: white;padding-right: 0.2em;padding-left: 0.2em;position: relative;}#sk-container-id-1 div.sk-item {position: relative;z-index: 1;}#sk-container-id-1 div.sk-parallel {display: flex;align-items: stretch;justify-content: center;background-color: white;position: relative;}#sk-container-id-1 div.sk-item::before, #sk-container-id-1 div.sk-parallel-item::before {content: \"\";position: absolute;border-left: 1px solid gray;box-sizing: border-box;top: 0;bottom: 0;left: 50%;z-index: -1;}#sk-container-id-1 div.sk-parallel-item {display: flex;flex-direction: column;z-index: 1;position: relative;background-color: white;}#sk-container-id-1 div.sk-parallel-item:first-child::after {align-self: flex-end;width: 50%;}#sk-container-id-1 div.sk-parallel-item:last-child::after {align-self: flex-start;width: 50%;}#sk-container-id-1 div.sk-parallel-item:only-child::after {width: 0;}#sk-container-id-1 div.sk-dashed-wrapped {border: 1px dashed gray;margin: 0 0.4em 0.5em 0.4em;box-sizing: border-box;padding-bottom: 0.4em;background-color: white;}#sk-container-id-1 div.sk-label label {font-family: monospace;font-weight: bold;display: inline-block;line-height: 1.2em;}#sk-container-id-1 div.sk-label-container {text-align: center;}#sk-container-id-1 div.sk-container {/* jupyter's `normalize.less` sets `[hidden] { display: none; }` but bootstrap.min.css set `[hidden] { display: none !important; }` so we also need the `!important` here to be able to override the default hidden behavior on the sphinx rendered scikit-learn.org. See: https://github.com/scikit-learn/scikit-learn/issues/21755 */display: inline-block !important;position: relative;}#sk-container-id-1 div.sk-text-repr-fallback {display: none;}</style><div id=\"sk-container-id-1\" class=\"sk-top-container\"><div class=\"sk-text-repr-fallback\"><pre>Ridge()</pre><b>In a Jupyter environment, please rerun this cell to show the HTML representation or trust the notebook. <br />On GitHub, the HTML representation is unable to render, please try loading this page with nbviewer.org.</b></div><div class=\"sk-container\" hidden><div class=\"sk-item\"><div class=\"sk-estimator sk-toggleable\"><input class=\"sk-toggleable__control sk-hidden--visually\" id=\"sk-estimator-id-1\" type=\"checkbox\" checked><label for=\"sk-estimator-id-1\" class=\"sk-toggleable__label sk-toggleable__label-arrow\">Ridge</label><div class=\"sk-toggleable__content\"><pre>Ridge()</pre></div></div></div></div></div>"
      ],
      "text/plain": [
       "Ridge()"
      ]
     },
     "execution_count": 9,
     "metadata": {},
     "output_type": "execute_result"
    }
   ],
   "source": [
    "\n",
    "regressor = Ridge(alpha=1.0)\n",
    "regressor.fit(X_train, y_train)"
   ]
  },
  {
   "attachments": {},
   "cell_type": "markdown",
   "metadata": {},
   "source": [
    "Running on test sets"
   ]
  },
  {
   "cell_type": "code",
   "execution_count": 10,
   "metadata": {},
   "outputs": [
    {
     "name": "stdout",
     "output_type": "stream",
     "text": [
      "[[ 71.15301524  71.33423568  71.3360927  ...  70.88371451  70.87253789\n",
      "   70.70284698]\n",
      " [ 71.73393814  71.91315026  71.91505035 ...  71.05923699  71.04446801\n",
      "   70.86782145]\n",
      " [ 72.26613487  72.44592179  72.45033917 ...  71.17855184  71.16253398\n",
      "   70.98281399]\n",
      " ...\n",
      " [112.63763931 114.66205362 116.50214796 ... 109.09532698 107.48031627\n",
      "  105.6758957 ]\n",
      " [112.2235737  114.24432926 116.07569411 ... 108.8148268  107.20296668\n",
      "  105.40193452]\n",
      " [111.64781657 113.66158699 115.48887492 ... 108.3301605  106.72507944\n",
      "  104.92828558]]\n"
     ]
    }
   ],
   "source": [
    "y_pred = regressor.predict(ReshapedX)\n",
    "print(y_pred)"
   ]
  },
  {
   "cell_type": "code",
   "execution_count": 11,
   "metadata": {},
   "outputs": [
    {
     "name": "stdout",
     "output_type": "stream",
     "text": [
      "0.19919854251161134\n"
     ]
    }
   ],
   "source": [
    "\n",
    "mse = mean_squared_error(ReshapedY, y_pred)\n",
    "print(mse)\n"
   ]
  },
  {
   "cell_type": "code",
   "execution_count": 12,
   "metadata": {},
   "outputs": [
    {
     "name": "stdout",
     "output_type": "stream",
     "text": [
      "Normalized Mean Squared Error (NMSE): 0.23534840549954503\n"
     ]
    }
   ],
   "source": [
    "# Assuming 'y_true' is the true values and 'y_pred' is the predicted values\n",
    "# mse = mean_squared_error(y_true, y_pred)\n",
    "mean_actual = np.mean(ReshapedY)\n",
    "nmse = (mse / mean_actual) * 100\n",
    "\n",
    "print(\"Normalized Mean Squared Error (NMSE):\", nmse)\n"
   ]
  }
 ],
 "metadata": {
  "kernelspec": {
   "display_name": "Python 3",
   "language": "python",
   "name": "python3"
  },
  "language_info": {
   "codemirror_mode": {
    "name": "ipython",
    "version": 3
   },
   "file_extension": ".py",
   "mimetype": "text/x-python",
   "name": "python",
   "nbconvert_exporter": "python",
   "pygments_lexer": "ipython3",
   "version": "3.11.2"
  },
  "orig_nbformat": 4
 },
 "nbformat": 4,
 "nbformat_minor": 2
}
